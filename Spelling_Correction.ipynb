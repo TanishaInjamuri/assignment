{
  "nbformat": 4,
  "nbformat_minor": 0,
  "metadata": {
    "colab": {
      "provenance": [],
      "authorship_tag": "ABX9TyM3TPLQ6xnM+a+92IEpHLL8",
      "include_colab_link": true
    },
    "kernelspec": {
      "name": "python3",
      "display_name": "Python 3"
    },
    "language_info": {
      "name": "python"
    }
  },
  "cells": [
    {
      "cell_type": "markdown",
      "metadata": {
        "id": "view-in-github",
        "colab_type": "text"
      },
      "source": [
        "<a href=\"https://colab.research.google.com/github/TanishaInjamuri/assignment/blob/main/Spelling_Correction.ipynb\" target=\"_parent\"><img src=\"https://colab.research.google.com/assets/colab-badge.svg\" alt=\"Open In Colab\"/></a>"
      ]
    },
    {
      "cell_type": "code",
      "execution_count": null,
      "metadata": {
        "colab": {
          "base_uri": "https://localhost:8080/"
        },
        "id": "BUTwOQK4VeyK",
        "outputId": "2a0961a3-a070-4a8b-ba22-671f8ddeb0fe"
      },
      "outputs": [
        {
          "output_type": "stream",
          "name": "stdout",
          "text": [
            "Enter your word:machien \n",
            "wrong words : ['machien']\n",
            "corrected words are :\n",
            "machine "
          ]
        }
      ],
      "source": [
        "from textblob import TextBlob\n",
        "def convert(string):\n",
        "  li=list(string.split())\n",
        "  return li\n",
        "str1=input(\"Enter your word:\")\n",
        "words=convert(str1)\n",
        "corrected_words= []\n",
        "for i in words:\n",
        "  corrected_words.append(TextBlob(i))\n",
        "print(\"wrong words :\",words)\n",
        "print(\"corrected words are :\")\n",
        "for i in corrected_words:\n",
        "  print(i.correct(),end=\" \")\n"
      ]
    }
  ]
}